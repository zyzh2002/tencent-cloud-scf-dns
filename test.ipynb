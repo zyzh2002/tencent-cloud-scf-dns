{
 "cells": [
  {
   "cell_type": "code",
   "execution_count": 28,
   "metadata": {},
   "outputs": [],
   "source": [
    "import json\n",
    "import base64\n",
    "import dns\n",
    "import dns.message\n",
    "import dns.query\n",
    "import dns.edns"
   ]
  },
  {
   "cell_type": "code",
   "execution_count": 22,
   "metadata": {},
   "outputs": [],
   "source": [
    "b64DNSQuery = \"Y34BAAABAAAAAAABBWJhaWR1A2NvbQAAEAABAAApBNAAAAAAAAsACAAHAAEYAAEBAQ\"\n",
    "rawDNSQuery = base64.urlsafe_b64decode(b64DNSQuery+\"=\"*(-len(b64DNSQuery)%4))"
   ]
  },
  {
   "cell_type": "code",
   "execution_count": 23,
   "metadata": {},
   "outputs": [],
   "source": [
    "dnsMessage = dns.message.from_wire(rawDNSQuery)"
   ]
  },
  {
   "cell_type": "code",
   "execution_count": 24,
   "metadata": {},
   "outputs": [
    {
     "name": "stdout",
     "output_type": "stream",
     "text": [
      "id 25470\n",
      "opcode QUERY\n",
      "rcode NOERROR\n",
      "flags RD\n",
      "edns 0\n",
      "payload 1232\n",
      "option ECS 1.1.1.0/24 scope/0\n",
      ";QUESTION\n",
      "baidu.com. IN TXT\n",
      ";ANSWER\n",
      ";AUTHORITY\n",
      ";ADDITIONAL\n"
     ]
    }
   ],
   "source": [
    "print(dnsMessage.to_text())"
   ]
  },
  {
   "cell_type": "code",
   "execution_count": 43,
   "metadata": {},
   "outputs": [
    {
     "data": {
      "text/plain": [
       "(<dns.edns.ECSOption at 0x268eae63df0>,)"
      ]
     },
     "execution_count": 43,
     "metadata": {},
     "output_type": "execute_result"
    }
   ],
   "source": [
    "dnsMessage.options"
   ]
  },
  {
   "cell_type": "code",
   "execution_count": 18,
   "metadata": {},
   "outputs": [
    {
     "name": "stdout",
     "output_type": "stream",
     "text": [
      "id 25470\n",
      "opcode QUERY\n",
      "rcode NOERROR\n",
      "flags QR RD RA\n",
      "edns 0\n",
      "payload 1232\n",
      "option ECS 1.1.1.0/24 scope/24\n",
      ";QUESTION\n",
      "baidu.com. IN TXT\n",
      ";ANSWER\n",
      "baidu.com. 600 IN TXT \"v=spf1 include:spf1.baidu.com include:spf2.baidu.com include:spf3.baidu.com include:spf4.baidu.com mx ptr -all\"\n",
      "baidu.com. 600 IN TXT \"google-site-verification=GHb98-6msqyx_qqjGl5eRatD3QTHyVB6-xQ3gJB5UwM\"\n",
      "baidu.com. 600 IN TXT \"9279nznttl321bxp1j464rd9vpps246v\"\n",
      "baidu.com. 600 IN TXT \"_globalsign-domain-verification=qjb28W2jJSrWj04NHpB0CvgK9tle5JkOq-EcyWBgnE\"\n",
      ";AUTHORITY\n",
      ";ADDITIONAL\n"
     ]
    }
   ],
   "source": [
    "print(dns.query.tls(dnsMessage, \"223.5.5.5\").to_text())"
   ]
  },
  {
   "cell_type": "code",
   "execution_count": 51,
   "metadata": {},
   "outputs": [
    {
     "ename": "SyntaxError",
     "evalue": "invalid syntax (2477526299.py, line 1)",
     "output_type": "error",
     "traceback": [
      "\u001b[1;36m  Cell \u001b[1;32mIn[51], line 1\u001b[1;36m\u001b[0m\n\u001b[1;33m    b\"a\"&&b\"b\"\u001b[0m\n\u001b[1;37m         ^\u001b[0m\n\u001b[1;31mSyntaxError\u001b[0m\u001b[1;31m:\u001b[0m invalid syntax\n"
     ]
    }
   ],
   "source": []
  }
 ],
 "metadata": {
  "kernelspec": {
   "display_name": "scf-dns",
   "language": "python",
   "name": "python3"
  },
  "language_info": {
   "codemirror_mode": {
    "name": "ipython",
    "version": 3
   },
   "file_extension": ".py",
   "mimetype": "text/x-python",
   "name": "python",
   "nbconvert_exporter": "python",
   "pygments_lexer": "ipython3",
   "version": "3.9.18"
  }
 },
 "nbformat": 4,
 "nbformat_minor": 2
}
